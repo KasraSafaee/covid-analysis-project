{
 "cells": [
  {
   "cell_type": "code",
   "id": "initial_id",
   "metadata": {
    "collapsed": true,
    "ExecuteTime": {
     "end_time": "2025-07-26T18:21:10.878449Z",
     "start_time": "2025-07-26T18:21:10.871541Z"
    }
   },
   "source": [
    "import pandas as pd\n",
    "import numpy as np\n",
    "import matplotlib.pyplot as plt\n",
    "import seaborn as sns"
   ],
   "outputs": [],
   "execution_count": 91
  },
  {
   "metadata": {
    "ExecuteTime": {
     "end_time": "2025-07-26T18:21:11.104973Z",
     "start_time": "2025-07-26T18:21:10.895061Z"
    }
   },
   "cell_type": "code",
   "source": "df = pd.read_csv(\"G:\\CovidDataset\\Data\\covid-data(cleaned).csv\")",
   "id": "c04d879862f61c8d",
   "outputs": [
    {
     "name": "stderr",
     "output_type": "stream",
     "text": [
      "<>:1: SyntaxWarning: invalid escape sequence '\\C'\n",
      "<>:1: SyntaxWarning: invalid escape sequence '\\C'\n",
      "C:\\Users\\asus\\AppData\\Local\\Temp\\ipykernel_27868\\947282433.py:1: SyntaxWarning: invalid escape sequence '\\C'\n",
      "  df = pd.read_csv(\"G:\\CovidDataset\\Data\\covid-data(cleaned).csv\")\n"
     ]
    }
   ],
   "execution_count": 92
  },
  {
   "metadata": {
    "ExecuteTime": {
     "end_time": "2025-07-26T18:21:11.158187Z",
     "start_time": "2025-07-26T18:21:11.122119Z"
    }
   },
   "cell_type": "code",
   "source": [
    "df_latest = df[df['date'] == df['date'].max()].copy()\n",
    "\n",
    "df_latest['death_rate'] = df_latest['total_deaths'] / df_latest['total_cases']\n",
    "df_latest['cases_per_million'] = df_latest['total_cases']/1000000"
   ],
   "id": "9fde11a908e29a88",
   "outputs": [],
   "execution_count": 93
  },
  {
   "metadata": {
    "ExecuteTime": {
     "end_time": "2025-07-26T18:21:11.189096Z",
     "start_time": "2025-07-26T18:21:11.174901Z"
    }
   },
   "cell_type": "code",
   "source": "df_latest",
   "id": "ce32739972d0c2b6",
   "outputs": [
    {
     "data": {
      "text/plain": [
       "       continent            country        date  total_cases  new_cases  \\\n",
       "1673        Asia        Afghanistan  2024-08-04       235214        0.0   \n",
       "3347      Europe            Albania  2024-08-04       335047        0.0   \n",
       "5021      Africa            Algeria  2024-08-04       272139       18.0   \n",
       "6695     Oceania     American Samoa  2024-08-04         8359        0.0   \n",
       "8369      Europe            Andorra  2024-08-04        48015        0.0   \n",
       "...          ...                ...         ...          ...        ...   \n",
       "379997      Asia            Vietnam  2024-08-04     11624000        0.0   \n",
       "381671   Oceania  Wallis and Futuna  2024-08-04         3760        0.0   \n",
       "383345      Asia              Yemen  2024-08-04        11945        0.0   \n",
       "385019    Africa             Zambia  2024-08-04       349842       18.0   \n",
       "386693    Africa           Zimbabwe  2024-08-04       266386        0.0   \n",
       "\n",
       "        total_deaths  new_deaths  population  population_density  death_rate  \\\n",
       "1673          7998.0         0.0    41128772               54.42    0.034003   \n",
       "3347          3605.0         0.0     2842318              104.87    0.010760   \n",
       "5021          6881.0         0.0    44903228               17.35    0.025285   \n",
       "6695            34.0         0.0       44295              278.20    0.004067   \n",
       "8369           159.0         0.0       79843              163.76    0.003311   \n",
       "...              ...         ...         ...                 ...         ...   \n",
       "379997       43206.0         0.0    98186856              308.13    0.003717   \n",
       "381671           9.0         0.0       11596                 NaN    0.002394   \n",
       "383345        2159.0         0.0    33696612               53.51    0.180745   \n",
       "385019        4077.0         0.0    20017670               23.00    0.011654   \n",
       "386693        5740.0         0.0    16320539               42.73    0.021548   \n",
       "\n",
       "        cases_per_million  \n",
       "1673             0.235214  \n",
       "3347             0.335047  \n",
       "5021             0.272139  \n",
       "6695             0.008359  \n",
       "8369             0.048015  \n",
       "...                   ...  \n",
       "379997          11.624000  \n",
       "381671           0.003760  \n",
       "383345           0.011945  \n",
       "385019           0.349842  \n",
       "386693           0.266386  \n",
       "\n",
       "[231 rows x 11 columns]"
      ],
      "text/html": [
       "<div>\n",
       "<style scoped>\n",
       "    .dataframe tbody tr th:only-of-type {\n",
       "        vertical-align: middle;\n",
       "    }\n",
       "\n",
       "    .dataframe tbody tr th {\n",
       "        vertical-align: top;\n",
       "    }\n",
       "\n",
       "    .dataframe thead th {\n",
       "        text-align: right;\n",
       "    }\n",
       "</style>\n",
       "<table border=\"1\" class=\"dataframe\">\n",
       "  <thead>\n",
       "    <tr style=\"text-align: right;\">\n",
       "      <th></th>\n",
       "      <th>continent</th>\n",
       "      <th>country</th>\n",
       "      <th>date</th>\n",
       "      <th>total_cases</th>\n",
       "      <th>new_cases</th>\n",
       "      <th>total_deaths</th>\n",
       "      <th>new_deaths</th>\n",
       "      <th>population</th>\n",
       "      <th>population_density</th>\n",
       "      <th>death_rate</th>\n",
       "      <th>cases_per_million</th>\n",
       "    </tr>\n",
       "  </thead>\n",
       "  <tbody>\n",
       "    <tr>\n",
       "      <th>1673</th>\n",
       "      <td>Asia</td>\n",
       "      <td>Afghanistan</td>\n",
       "      <td>2024-08-04</td>\n",
       "      <td>235214</td>\n",
       "      <td>0.0</td>\n",
       "      <td>7998.0</td>\n",
       "      <td>0.0</td>\n",
       "      <td>41128772</td>\n",
       "      <td>54.42</td>\n",
       "      <td>0.034003</td>\n",
       "      <td>0.235214</td>\n",
       "    </tr>\n",
       "    <tr>\n",
       "      <th>3347</th>\n",
       "      <td>Europe</td>\n",
       "      <td>Albania</td>\n",
       "      <td>2024-08-04</td>\n",
       "      <td>335047</td>\n",
       "      <td>0.0</td>\n",
       "      <td>3605.0</td>\n",
       "      <td>0.0</td>\n",
       "      <td>2842318</td>\n",
       "      <td>104.87</td>\n",
       "      <td>0.010760</td>\n",
       "      <td>0.335047</td>\n",
       "    </tr>\n",
       "    <tr>\n",
       "      <th>5021</th>\n",
       "      <td>Africa</td>\n",
       "      <td>Algeria</td>\n",
       "      <td>2024-08-04</td>\n",
       "      <td>272139</td>\n",
       "      <td>18.0</td>\n",
       "      <td>6881.0</td>\n",
       "      <td>0.0</td>\n",
       "      <td>44903228</td>\n",
       "      <td>17.35</td>\n",
       "      <td>0.025285</td>\n",
       "      <td>0.272139</td>\n",
       "    </tr>\n",
       "    <tr>\n",
       "      <th>6695</th>\n",
       "      <td>Oceania</td>\n",
       "      <td>American Samoa</td>\n",
       "      <td>2024-08-04</td>\n",
       "      <td>8359</td>\n",
       "      <td>0.0</td>\n",
       "      <td>34.0</td>\n",
       "      <td>0.0</td>\n",
       "      <td>44295</td>\n",
       "      <td>278.20</td>\n",
       "      <td>0.004067</td>\n",
       "      <td>0.008359</td>\n",
       "    </tr>\n",
       "    <tr>\n",
       "      <th>8369</th>\n",
       "      <td>Europe</td>\n",
       "      <td>Andorra</td>\n",
       "      <td>2024-08-04</td>\n",
       "      <td>48015</td>\n",
       "      <td>0.0</td>\n",
       "      <td>159.0</td>\n",
       "      <td>0.0</td>\n",
       "      <td>79843</td>\n",
       "      <td>163.76</td>\n",
       "      <td>0.003311</td>\n",
       "      <td>0.048015</td>\n",
       "    </tr>\n",
       "    <tr>\n",
       "      <th>...</th>\n",
       "      <td>...</td>\n",
       "      <td>...</td>\n",
       "      <td>...</td>\n",
       "      <td>...</td>\n",
       "      <td>...</td>\n",
       "      <td>...</td>\n",
       "      <td>...</td>\n",
       "      <td>...</td>\n",
       "      <td>...</td>\n",
       "      <td>...</td>\n",
       "      <td>...</td>\n",
       "    </tr>\n",
       "    <tr>\n",
       "      <th>379997</th>\n",
       "      <td>Asia</td>\n",
       "      <td>Vietnam</td>\n",
       "      <td>2024-08-04</td>\n",
       "      <td>11624000</td>\n",
       "      <td>0.0</td>\n",
       "      <td>43206.0</td>\n",
       "      <td>0.0</td>\n",
       "      <td>98186856</td>\n",
       "      <td>308.13</td>\n",
       "      <td>0.003717</td>\n",
       "      <td>11.624000</td>\n",
       "    </tr>\n",
       "    <tr>\n",
       "      <th>381671</th>\n",
       "      <td>Oceania</td>\n",
       "      <td>Wallis and Futuna</td>\n",
       "      <td>2024-08-04</td>\n",
       "      <td>3760</td>\n",
       "      <td>0.0</td>\n",
       "      <td>9.0</td>\n",
       "      <td>0.0</td>\n",
       "      <td>11596</td>\n",
       "      <td>NaN</td>\n",
       "      <td>0.002394</td>\n",
       "      <td>0.003760</td>\n",
       "    </tr>\n",
       "    <tr>\n",
       "      <th>383345</th>\n",
       "      <td>Asia</td>\n",
       "      <td>Yemen</td>\n",
       "      <td>2024-08-04</td>\n",
       "      <td>11945</td>\n",
       "      <td>0.0</td>\n",
       "      <td>2159.0</td>\n",
       "      <td>0.0</td>\n",
       "      <td>33696612</td>\n",
       "      <td>53.51</td>\n",
       "      <td>0.180745</td>\n",
       "      <td>0.011945</td>\n",
       "    </tr>\n",
       "    <tr>\n",
       "      <th>385019</th>\n",
       "      <td>Africa</td>\n",
       "      <td>Zambia</td>\n",
       "      <td>2024-08-04</td>\n",
       "      <td>349842</td>\n",
       "      <td>18.0</td>\n",
       "      <td>4077.0</td>\n",
       "      <td>0.0</td>\n",
       "      <td>20017670</td>\n",
       "      <td>23.00</td>\n",
       "      <td>0.011654</td>\n",
       "      <td>0.349842</td>\n",
       "    </tr>\n",
       "    <tr>\n",
       "      <th>386693</th>\n",
       "      <td>Africa</td>\n",
       "      <td>Zimbabwe</td>\n",
       "      <td>2024-08-04</td>\n",
       "      <td>266386</td>\n",
       "      <td>0.0</td>\n",
       "      <td>5740.0</td>\n",
       "      <td>0.0</td>\n",
       "      <td>16320539</td>\n",
       "      <td>42.73</td>\n",
       "      <td>0.021548</td>\n",
       "      <td>0.266386</td>\n",
       "    </tr>\n",
       "  </tbody>\n",
       "</table>\n",
       "<p>231 rows × 11 columns</p>\n",
       "</div>"
      ]
     },
     "execution_count": 94,
     "metadata": {},
     "output_type": "execute_result"
    }
   ],
   "execution_count": 94
  },
  {
   "metadata": {
    "ExecuteTime": {
     "end_time": "2025-07-26T18:21:11.555530Z",
     "start_time": "2025-07-26T18:21:11.232034Z"
    }
   },
   "cell_type": "code",
   "source": [
    "sns.scatterplot(data=df_latest, x='population_density', y='cases_per_million')\n",
    "plt.title(\"Population Density vs COVID Cases Per Million\")\n",
    "plt.xlabel(\"Population Density\")\n",
    "plt.ylabel(\"Cases Per Million\")\n",
    "plt.xscale('log')\n",
    "plt.show()"
   ],
   "id": "edc2479ec5e515ad",
   "outputs": [
    {
     "data": {
      "text/plain": [
       "<Figure size 640x480 with 1 Axes>"
      ],
      "image/png": "[encoded data removed]"
     },
     "metadata": {},
     "output_type": "display_data"
    }
   ],
   "execution_count": 95
  },
  {
   "metadata": {},
   "cell_type": "markdown",
   "source": "",
   "id": "84ce4c04892b5a"
  },
  {
   "metadata": {
    "ExecuteTime": {
     "end_time": "2025-07-26T18:21:11.650040Z",
     "start_time": "2025-07-26T18:21:11.583260Z"
    }
   },
   "cell_type": "code",
   "source": [
    "df_population = df.groupby('country').tail(1).groupby(\"continent\")[\"population\"].sum()\n",
    "df_population"
   ],
   "id": "507c93d3b6ea072a",
   "outputs": [
    {
     "data": {
      "text/plain": [
       "continent\n",
       "Africa           1426160609\n",
       "Asia             4688036653\n",
       "Europe            548669798\n",
       "North America     600323657\n",
       "Oceania            45038907\n",
       "South America     436816679\n",
       "Name: population, dtype: int64"
      ]
     },
     "execution_count": 96,
     "metadata": {},
     "output_type": "execute_result"
    }
   ],
   "execution_count": 96
  },
  {
   "metadata": {
    "ExecuteTime": {
     "end_time": "2025-07-26T18:21:11.731033Z",
     "start_time": "2025-07-26T18:21:11.683109Z"
    }
   },
   "cell_type": "code",
   "source": [
    "continents_cases = df.groupby('continent')['total_cases'].max().sort_values(ascending=False).reset_index()\n",
    "continents_deaths = df.groupby('continent')['total_deaths'].max().sort_values(ascending=False).reset_index()"
   ],
   "id": "159430fd887359b4",
   "outputs": [],
   "execution_count": 97
  },
  {
   "metadata": {
    "ExecuteTime": {
     "end_time": "2025-07-26T18:21:11.819817Z",
     "start_time": "2025-07-26T18:21:11.803501Z"
    }
   },
   "cell_type": "code",
   "source": [
    "continents_by_deaths = (pd.merge(continents_cases, continents_deaths, on='continent', how='outer')\n",
    "                    .sort_values('total_deaths', ascending=False).reset_index(drop=True))"
   ],
   "id": "a8709745b824c8fc",
   "outputs": [],
   "execution_count": 98
  },
  {
   "metadata": {
    "ExecuteTime": {
     "end_time": "2025-07-26T18:21:11.878123Z",
     "start_time": "2025-07-26T18:21:11.862800Z"
    }
   },
   "cell_type": "code",
   "source": [
    "continents_by_deaths = pd.merge(continents_by_deaths, df_population, on='continent', how='left')\n",
    "continents_by_deaths"
   ],
   "id": "17fcf791dbee0dde",
   "outputs": [
    {
     "data": {
      "text/plain": [
       "       continent  total_cases  total_deaths  population\n",
       "0  North America    103436829     1193165.0   600323657\n",
       "1  South America     37511921      702116.0   436816679\n",
       "2           Asia     99373219      533623.0  4688036653\n",
       "3         Europe     26781078      403188.0   548669798\n",
       "4         Africa      4072765      102595.0  1426160609\n",
       "5        Oceania     11861161       25236.0    45038907"
      ],
      "text/html": [
       "<div>\n",
       "<style scoped>\n",
       "    .dataframe tbody tr th:only-of-type {\n",
       "        vertical-align: middle;\n",
       "    }\n",
       "\n",
       "    .dataframe tbody tr th {\n",
       "        vertical-align: top;\n",
       "    }\n",
       "\n",
       "    .dataframe thead th {\n",
       "        text-align: right;\n",
       "    }\n",
       "</style>\n",
       "<table border=\"1\" class=\"dataframe\">\n",
       "  <thead>\n",
       "    <tr style=\"text-align: right;\">\n",
       "      <th></th>\n",
       "      <th>continent</th>\n",
       "      <th>total_cases</th>\n",
       "      <th>total_deaths</th>\n",
       "      <th>population</th>\n",
       "    </tr>\n",
       "  </thead>\n",
       "  <tbody>\n",
       "    <tr>\n",
       "      <th>0</th>\n",
       "      <td>North America</td>\n",
       "      <td>103436829</td>\n",
       "      <td>1193165.0</td>\n",
       "      <td>600323657</td>\n",
       "    </tr>\n",
       "    <tr>\n",
       "      <th>1</th>\n",
       "      <td>South America</td>\n",
       "      <td>37511921</td>\n",
       "      <td>702116.0</td>\n",
       "      <td>436816679</td>\n",
       "    </tr>\n",
       "    <tr>\n",
       "      <th>2</th>\n",
       "      <td>Asia</td>\n",
       "      <td>99373219</td>\n",
       "      <td>533623.0</td>\n",
       "      <td>4688036653</td>\n",
       "    </tr>\n",
       "    <tr>\n",
       "      <th>3</th>\n",
       "      <td>Europe</td>\n",
       "      <td>26781078</td>\n",
       "      <td>403188.0</td>\n",
       "      <td>548669798</td>\n",
       "    </tr>\n",
       "    <tr>\n",
       "      <th>4</th>\n",
       "      <td>Africa</td>\n",
       "      <td>4072765</td>\n",
       "      <td>102595.0</td>\n",
       "      <td>1426160609</td>\n",
       "    </tr>\n",
       "    <tr>\n",
       "      <th>5</th>\n",
       "      <td>Oceania</td>\n",
       "      <td>11861161</td>\n",
       "      <td>25236.0</td>\n",
       "      <td>45038907</td>\n",
       "    </tr>\n",
       "  </tbody>\n",
       "</table>\n",
       "</div>"
      ]
     },
     "execution_count": 99,
     "metadata": {},
     "output_type": "execute_result"
    }
   ],
   "execution_count": 99
  },
  {
   "metadata": {
    "ExecuteTime": {
     "end_time": "2025-07-26T18:21:11.934492Z",
     "start_time": "2025-07-26T18:21:11.927558Z"
    }
   },
   "cell_type": "code",
   "source": [
    "continents_by_deaths['death_rate'] = continents_by_deaths['total_deaths'] / continents_by_deaths['total_cases']\n",
    "continents_by_deaths['death_rate_percent'] = continents_by_deaths['death_rate'] * 100"
   ],
   "id": "983198a69e7e3f3f",
   "outputs": [],
   "execution_count": 100
  },
  {
   "metadata": {
    "ExecuteTime": {
     "end_time": "2025-07-26T18:21:11.991707Z",
     "start_time": "2025-07-26T18:21:11.983592Z"
    }
   },
   "cell_type": "code",
   "source": "continents_by_deaths",
   "id": "48753ff9cb7357d0",
   "outputs": [
    {
     "data": {
      "text/plain": [
       "       continent  total_cases  total_deaths  population  death_rate  \\\n",
       "0  North America    103436829     1193165.0   600323657    0.011535   \n",
       "1  South America     37511921      702116.0   436816679    0.018717   \n",
       "2           Asia     99373219      533623.0  4688036653    0.005370   \n",
       "3         Europe     26781078      403188.0   548669798    0.015055   \n",
       "4         Africa      4072765      102595.0  1426160609    0.025191   \n",
       "5        Oceania     11861161       25236.0    45038907    0.002128   \n",
       "\n",
       "   death_rate_percent  \n",
       "0            1.153520  \n",
       "1            1.871714  \n",
       "2            0.536989  \n",
       "3            1.505496  \n",
       "4            2.519050  \n",
       "5            0.212762  "
      ],
      "text/html": [
       "<div>\n",
       "<style scoped>\n",
       "    .dataframe tbody tr th:only-of-type {\n",
       "        vertical-align: middle;\n",
       "    }\n",
       "\n",
       "    .dataframe tbody tr th {\n",
       "        vertical-align: top;\n",
       "    }\n",
       "\n",
       "    .dataframe thead th {\n",
       "        text-align: right;\n",
       "    }\n",
       "</style>\n",
       "<table border=\"1\" class=\"dataframe\">\n",
       "  <thead>\n",
       "    <tr style=\"text-align: right;\">\n",
       "      <th></th>\n",
       "      <th>continent</th>\n",
       "      <th>total_cases</th>\n",
       "      <th>total_deaths</th>\n",
       "      <th>population</th>\n",
       "      <th>death_rate</th>\n",
       "      <th>death_rate_percent</th>\n",
       "    </tr>\n",
       "  </thead>\n",
       "  <tbody>\n",
       "    <tr>\n",
       "      <th>0</th>\n",
       "      <td>North America</td>\n",
       "      <td>103436829</td>\n",
       "      <td>1193165.0</td>\n",
       "      <td>600323657</td>\n",
       "      <td>0.011535</td>\n",
       "      <td>1.153520</td>\n",
       "    </tr>\n",
       "    <tr>\n",
       "      <th>1</th>\n",
       "      <td>South America</td>\n",
       "      <td>37511921</td>\n",
       "      <td>702116.0</td>\n",
       "      <td>436816679</td>\n",
       "      <td>0.018717</td>\n",
       "      <td>1.871714</td>\n",
       "    </tr>\n",
       "    <tr>\n",
       "      <th>2</th>\n",
       "      <td>Asia</td>\n",
       "      <td>99373219</td>\n",
       "      <td>533623.0</td>\n",
       "      <td>4688036653</td>\n",
       "      <td>0.005370</td>\n",
       "      <td>0.536989</td>\n",
       "    </tr>\n",
       "    <tr>\n",
       "      <th>3</th>\n",
       "      <td>Europe</td>\n",
       "      <td>26781078</td>\n",
       "      <td>403188.0</td>\n",
       "      <td>548669798</td>\n",
       "      <td>0.015055</td>\n",
       "      <td>1.505496</td>\n",
       "    </tr>\n",
       "    <tr>\n",
       "      <th>4</th>\n",
       "      <td>Africa</td>\n",
       "      <td>4072765</td>\n",
       "      <td>102595.0</td>\n",
       "      <td>1426160609</td>\n",
       "      <td>0.025191</td>\n",
       "      <td>2.519050</td>\n",
       "    </tr>\n",
       "    <tr>\n",
       "      <th>5</th>\n",
       "      <td>Oceania</td>\n",
       "      <td>11861161</td>\n",
       "      <td>25236.0</td>\n",
       "      <td>45038907</td>\n",
       "      <td>0.002128</td>\n",
       "      <td>0.212762</td>\n",
       "    </tr>\n",
       "  </tbody>\n",
       "</table>\n",
       "</div>"
      ]
     },
     "execution_count": 101,
     "metadata": {},
     "output_type": "execute_result"
    }
   ],
   "execution_count": 101
  },
  {
   "metadata": {
    "ExecuteTime": {
     "end_time": "2025-07-26T18:21:12.158685Z",
     "start_time": "2025-07-26T18:21:12.153103Z"
    }
   },
   "cell_type": "code",
   "source": "continents_by_case = continents_by_deaths.sort_values('total_cases', ascending=False).reset_index(drop=True)",
   "id": "b827acfeeaf0d1b6",
   "outputs": [],
   "execution_count": 102
  },
  {
   "metadata": {
    "ExecuteTime": {
     "end_time": "2025-07-26T18:21:12.209039Z",
     "start_time": "2025-07-26T18:21:12.199752Z"
    }
   },
   "cell_type": "code",
   "source": "continents_by_case",
   "id": "49f5e24319201fae",
   "outputs": [
    {
     "data": {
      "text/plain": [
       "       continent  total_cases  total_deaths  population  death_rate  \\\n",
       "0  North America    103436829     1193165.0   600323657    0.011535   \n",
       "1           Asia     99373219      533623.0  4688036653    0.005370   \n",
       "2  South America     37511921      702116.0   436816679    0.018717   \n",
       "3         Europe     26781078      403188.0   548669798    0.015055   \n",
       "4        Oceania     11861161       25236.0    45038907    0.002128   \n",
       "5         Africa      4072765      102595.0  1426160609    0.025191   \n",
       "\n",
       "   death_rate_percent  \n",
       "0            1.153520  \n",
       "1            0.536989  \n",
       "2            1.871714  \n",
       "3            1.505496  \n",
       "4            0.212762  \n",
       "5            2.519050  "
      ],
      "text/html": [
       "<div>\n",
       "<style scoped>\n",
       "    .dataframe tbody tr th:only-of-type {\n",
       "        vertical-align: middle;\n",
       "    }\n",
       "\n",
       "    .dataframe tbody tr th {\n",
       "        vertical-align: top;\n",
       "    }\n",
       "\n",
       "    .dataframe thead th {\n",
       "        text-align: right;\n",
       "    }\n",
       "</style>\n",
       "<table border=\"1\" class=\"dataframe\">\n",
       "  <thead>\n",
       "    <tr style=\"text-align: right;\">\n",
       "      <th></th>\n",
       "      <th>continent</th>\n",
       "      <th>total_cases</th>\n",
       "      <th>total_deaths</th>\n",
       "      <th>population</th>\n",
       "      <th>death_rate</th>\n",
       "      <th>death_rate_percent</th>\n",
       "    </tr>\n",
       "  </thead>\n",
       "  <tbody>\n",
       "    <tr>\n",
       "      <th>0</th>\n",
       "      <td>North America</td>\n",
       "      <td>103436829</td>\n",
       "      <td>1193165.0</td>\n",
       "      <td>600323657</td>\n",
       "      <td>0.011535</td>\n",
       "      <td>1.153520</td>\n",
       "    </tr>\n",
       "    <tr>\n",
       "      <th>1</th>\n",
       "      <td>Asia</td>\n",
       "      <td>99373219</td>\n",
       "      <td>533623.0</td>\n",
       "      <td>4688036653</td>\n",
       "      <td>0.005370</td>\n",
       "      <td>0.536989</td>\n",
       "    </tr>\n",
       "    <tr>\n",
       "      <th>2</th>\n",
       "      <td>South America</td>\n",
       "      <td>37511921</td>\n",
       "      <td>702116.0</td>\n",
       "      <td>436816679</td>\n",
       "      <td>0.018717</td>\n",
       "      <td>1.871714</td>\n",
       "    </tr>\n",
       "    <tr>\n",
       "      <th>3</th>\n",
       "      <td>Europe</td>\n",
       "      <td>26781078</td>\n",
       "      <td>403188.0</td>\n",
       "      <td>548669798</td>\n",
       "      <td>0.015055</td>\n",
       "      <td>1.505496</td>\n",
       "    </tr>\n",
       "    <tr>\n",
       "      <th>4</th>\n",
       "      <td>Oceania</td>\n",
       "      <td>11861161</td>\n",
       "      <td>25236.0</td>\n",
       "      <td>45038907</td>\n",
       "      <td>0.002128</td>\n",
       "      <td>0.212762</td>\n",
       "    </tr>\n",
       "    <tr>\n",
       "      <th>5</th>\n",
       "      <td>Africa</td>\n",
       "      <td>4072765</td>\n",
       "      <td>102595.0</td>\n",
       "      <td>1426160609</td>\n",
       "      <td>0.025191</td>\n",
       "      <td>2.519050</td>\n",
       "    </tr>\n",
       "  </tbody>\n",
       "</table>\n",
       "</div>"
      ]
     },
     "execution_count": 103,
     "metadata": {},
     "output_type": "execute_result"
    }
   ],
   "execution_count": 103
  },
  {
   "metadata": {
    "ExecuteTime": {
     "end_time": "2025-07-26T18:21:12.482996Z",
     "start_time": "2025-07-26T18:21:12.361845Z"
    }
   },
   "cell_type": "code",
   "source": [
    "plt.figure(figsize=(12, 6))\n",
    "sns.barplot(x=continents_by_deaths['continent'].values, y=continents_by_deaths[\"total_deaths\"].values)\n",
    "plt.title(\"Total Deaths in continents\")\n",
    "plt.ylabel(\"Total Cases\")\n",
    "plt.xticks(rotation=45)\n",
    "plt.show()"
   ],
   "id": "bf555b1a7848bce7",
   "outputs": [
    {
     "data": {
      "text/plain": [
       "<Figure size 1200x600 with 1 Axes>"
      ],
      "image/png": "[encoded data removed]"
     },
     "metadata": {},
     "output_type": "display_data"
    }
   ],
   "execution_count": 104
  },
  {
   "metadata": {
    "ExecuteTime": {
     "end_time": "2025-07-26T18:39:19.233879Z",
     "start_time": "2025-07-26T18:39:19.073645Z"
    }
   },
   "cell_type": "code",
   "source": [
    "plt.figure(figsize=(12, 6))\n",
    "sns.barplot(x=continents_by_case['continent'].values, y=continents_by_case[\"total_cases\"].values)\n",
    "plt.title(\"Total Cases in continents\")\n",
    "plt.ylabel(\"Total Cases\")\n",
    "plt.xticks(rotation=45)\n",
    "plt.show()"
   ],
   "id": "b2e5591b8dd911ff",
   "outputs": [
    {
     "data": {
      "text/plain": [
       "<Figure size 1200x600 with 1 Axes>"
      ],
      "image/png": "[encoded data removed]"
     },
     "metadata": {},
     "output_type": "display_data"
    }
   ],
   "execution_count": 108
  }
 ],
 "metadata": {
  "kernelspec": {
   "display_name": "Python 3",
   "language": "python",
   "name": "python3"
  },
  "language_info": {
   "codemirror_mode": {
    "name": "ipython",
    "version": 2
   },
   "file_extension": ".py",
   "mimetype": "text/x-python",
   "name": "python",
   "nbconvert_exporter": "python",
   "pygments_lexer": "ipython2",
   "version": "2.7.6"
  }
 },
 "nbformat": 4,
 "nbformat_minor": 5
}
