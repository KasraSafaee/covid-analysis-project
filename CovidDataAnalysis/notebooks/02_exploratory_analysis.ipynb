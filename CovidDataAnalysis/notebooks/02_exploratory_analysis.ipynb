{
 "cells": [
  {
   "cell_type": "code",
   "id": "initial_id",
   "metadata": {
    "collapsed": true,
    "ExecuteTime": {
     "end_time": "2025-07-26T16:23:22.517495Z",
     "start_time": "2025-07-26T16:23:22.513862Z"
    }
   },
   "source": [
    "import pandas as pd\n",
    "import numpy as np\n",
    "import matplotlib.pyplot as plt\n",
    "import seaborn as sns"
   ],
   "outputs": [],
   "execution_count": 1
  },
  {
   "metadata": {
    "ExecuteTime": {
     "end_time": "2025-07-26T16:23:22.838166Z",
     "start_time": "2025-07-26T16:23:22.528396Z"
    }
   },
   "cell_type": "code",
   "source": "df = pd.read_csv(\"G:\\CovidDataset\\Data\\covid-data(cleaned).csv\")",
   "id": "4d3737793d9beb3e",
   "outputs": [
    {
     "name": "stderr",
     "output_type": "stream",
     "text": [
      "<>:1: SyntaxWarning: invalid escape sequence '\\C'\n",
      "<>:1: SyntaxWarning: invalid escape sequence '\\C'\n",
      "C:\\Users\\asus\\AppData\\Local\\Temp\\ipykernel_6252\\947282433.py:1: SyntaxWarning: invalid escape sequence '\\C'\n",
      "  df = pd.read_csv(\"G:\\CovidDataset\\Data\\covid-data(cleaned).csv\")\n"
     ]
    }
   ],
   "execution_count": 2
  },
  {
   "metadata": {
    "ExecuteTime": {
     "end_time": "2025-07-26T16:23:23.495845Z",
     "start_time": "2025-07-26T16:23:23.478277Z"
    }
   },
   "cell_type": "code",
   "source": "df",
   "id": "fe048fd2c1fc6372",
   "outputs": [
    {
     "data": {
      "text/plain": [
       "       continent      country        date  total_cases  new_cases  \\\n",
       "0           Asia  Afghanistan  2020-01-05            0        0.0   \n",
       "1           Asia  Afghanistan  2020-01-06            0        0.0   \n",
       "2           Asia  Afghanistan  2020-01-07            0        0.0   \n",
       "3           Asia  Afghanistan  2020-01-08            0        0.0   \n",
       "4           Asia  Afghanistan  2020-01-09            0        0.0   \n",
       "...          ...          ...         ...          ...        ...   \n",
       "386689    Africa     Zimbabwe  2024-07-31       266386        0.0   \n",
       "386690    Africa     Zimbabwe  2024-08-01       266386        0.0   \n",
       "386691    Africa     Zimbabwe  2024-08-02       266386        0.0   \n",
       "386692    Africa     Zimbabwe  2024-08-03       266386        0.0   \n",
       "386693    Africa     Zimbabwe  2024-08-04       266386        0.0   \n",
       "\n",
       "        total_deaths  new_deaths  population  population_density  \n",
       "0                0.0         0.0    41128772               54.42  \n",
       "1                0.0         0.0    41128772               54.42  \n",
       "2                0.0         0.0    41128772               54.42  \n",
       "3                0.0         0.0    41128772               54.42  \n",
       "4                0.0         0.0    41128772               54.42  \n",
       "...              ...         ...         ...                 ...  \n",
       "386689        5740.0         0.0    16320539               42.73  \n",
       "386690        5740.0         0.0    16320539               42.73  \n",
       "386691        5740.0         0.0    16320539               42.73  \n",
       "386692        5740.0         0.0    16320539               42.73  \n",
       "386693        5740.0         0.0    16320539               42.73  \n",
       "\n",
       "[386694 rows x 9 columns]"
      ],
      "text/html": [
       "<div>\n",
       "<style scoped>\n",
       "    .dataframe tbody tr th:only-of-type {\n",
       "        vertical-align: middle;\n",
       "    }\n",
       "\n",
       "    .dataframe tbody tr th {\n",
       "        vertical-align: top;\n",
       "    }\n",
       "\n",
       "    .dataframe thead th {\n",
       "        text-align: right;\n",
       "    }\n",
       "</style>\n",
       "<table border=\"1\" class=\"dataframe\">\n",
       "  <thead>\n",
       "    <tr style=\"text-align: right;\">\n",
       "      <th></th>\n",
       "      <th>continent</th>\n",
       "      <th>country</th>\n",
       "      <th>date</th>\n",
       "      <th>total_cases</th>\n",
       "      <th>new_cases</th>\n",
       "      <th>total_deaths</th>\n",
       "      <th>new_deaths</th>\n",
       "      <th>population</th>\n",
       "      <th>population_density</th>\n",
       "    </tr>\n",
       "  </thead>\n",
       "  <tbody>\n",
       "    <tr>\n",
       "      <th>0</th>\n",
       "      <td>Asia</td>\n",
       "      <td>Afghanistan</td>\n",
       "      <td>2020-01-05</td>\n",
       "      <td>0</td>\n",
       "      <td>0.0</td>\n",
       "      <td>0.0</td>\n",
       "      <td>0.0</td>\n",
       "      <td>41128772</td>\n",
       "      <td>54.42</td>\n",
       "    </tr>\n",
       "    <tr>\n",
       "      <th>1</th>\n",
       "      <td>Asia</td>\n",
       "      <td>Afghanistan</td>\n",
       "      <td>2020-01-06</td>\n",
       "      <td>0</td>\n",
       "      <td>0.0</td>\n",
       "      <td>0.0</td>\n",
       "      <td>0.0</td>\n",
       "      <td>41128772</td>\n",
       "      <td>54.42</td>\n",
       "    </tr>\n",
       "    <tr>\n",
       "      <th>2</th>\n",
       "      <td>Asia</td>\n",
       "      <td>Afghanistan</td>\n",
       "      <td>2020-01-07</td>\n",
       "      <td>0</td>\n",
       "      <td>0.0</td>\n",
       "      <td>0.0</td>\n",
       "      <td>0.0</td>\n",
       "      <td>41128772</td>\n",
       "      <td>54.42</td>\n",
       "    </tr>\n",
       "    <tr>\n",
       "      <th>3</th>\n",
       "      <td>Asia</td>\n",
       "      <td>Afghanistan</td>\n",
       "      <td>2020-01-08</td>\n",
       "      <td>0</td>\n",
       "      <td>0.0</td>\n",
       "      <td>0.0</td>\n",
       "      <td>0.0</td>\n",
       "      <td>41128772</td>\n",
       "      <td>54.42</td>\n",
       "    </tr>\n",
       "    <tr>\n",
       "      <th>4</th>\n",
       "      <td>Asia</td>\n",
       "      <td>Afghanistan</td>\n",
       "      <td>2020-01-09</td>\n",
       "      <td>0</td>\n",
       "      <td>0.0</td>\n",
       "      <td>0.0</td>\n",
       "      <td>0.0</td>\n",
       "      <td>41128772</td>\n",
       "      <td>54.42</td>\n",
       "    </tr>\n",
       "    <tr>\n",
       "      <th>...</th>\n",
       "      <td>...</td>\n",
       "      <td>...</td>\n",
       "      <td>...</td>\n",
       "      <td>...</td>\n",
       "      <td>...</td>\n",
       "      <td>...</td>\n",
       "      <td>...</td>\n",
       "      <td>...</td>\n",
       "      <td>...</td>\n",
       "    </tr>\n",
       "    <tr>\n",
       "      <th>386689</th>\n",
       "      <td>Africa</td>\n",
       "      <td>Zimbabwe</td>\n",
       "      <td>2024-07-31</td>\n",
       "      <td>266386</td>\n",
       "      <td>0.0</td>\n",
       "      <td>5740.0</td>\n",
       "      <td>0.0</td>\n",
       "      <td>16320539</td>\n",
       "      <td>42.73</td>\n",
       "    </tr>\n",
       "    <tr>\n",
       "      <th>386690</th>\n",
       "      <td>Africa</td>\n",
       "      <td>Zimbabwe</td>\n",
       "      <td>2024-08-01</td>\n",
       "      <td>266386</td>\n",
       "      <td>0.0</td>\n",
       "      <td>5740.0</td>\n",
       "      <td>0.0</td>\n",
       "      <td>16320539</td>\n",
       "      <td>42.73</td>\n",
       "    </tr>\n",
       "    <tr>\n",
       "      <th>386691</th>\n",
       "      <td>Africa</td>\n",
       "      <td>Zimbabwe</td>\n",
       "      <td>2024-08-02</td>\n",
       "      <td>266386</td>\n",
       "      <td>0.0</td>\n",
       "      <td>5740.0</td>\n",
       "      <td>0.0</td>\n",
       "      <td>16320539</td>\n",
       "      <td>42.73</td>\n",
       "    </tr>\n",
       "    <tr>\n",
       "      <th>386692</th>\n",
       "      <td>Africa</td>\n",
       "      <td>Zimbabwe</td>\n",
       "      <td>2024-08-03</td>\n",
       "      <td>266386</td>\n",
       "      <td>0.0</td>\n",
       "      <td>5740.0</td>\n",
       "      <td>0.0</td>\n",
       "      <td>16320539</td>\n",
       "      <td>42.73</td>\n",
       "    </tr>\n",
       "    <tr>\n",
       "      <th>386693</th>\n",
       "      <td>Africa</td>\n",
       "      <td>Zimbabwe</td>\n",
       "      <td>2024-08-04</td>\n",
       "      <td>266386</td>\n",
       "      <td>0.0</td>\n",
       "      <td>5740.0</td>\n",
       "      <td>0.0</td>\n",
       "      <td>16320539</td>\n",
       "      <td>42.73</td>\n",
       "    </tr>\n",
       "  </tbody>\n",
       "</table>\n",
       "<p>386694 rows × 9 columns</p>\n",
       "</div>"
      ]
     },
     "execution_count": 3,
     "metadata": {},
     "output_type": "execute_result"
    }
   ],
   "execution_count": 3
  },
  {
   "metadata": {
    "ExecuteTime": {
     "end_time": "2025-07-26T16:23:23.618330Z",
     "start_time": "2025-07-26T16:23:23.556210Z"
    }
   },
   "cell_type": "code",
   "source": "df.info()",
   "id": "5f4db7d5825b7e1c",
   "outputs": [
    {
     "name": "stdout",
     "output_type": "stream",
     "text": [
      "<class 'pandas.core.frame.DataFrame'>\n",
      "RangeIndex: 386694 entries, 0 to 386693\n",
      "Data columns (total 9 columns):\n",
      " #   Column              Non-Null Count   Dtype  \n",
      "---  ------              --------------   -----  \n",
      " 0   continent           385020 non-null  object \n",
      " 1   country             386694 non-null  object \n",
      " 2   date                386694 non-null  object \n",
      " 3   total_cases         386694 non-null  int64  \n",
      " 4   new_cases           386233 non-null  float64\n",
      " 5   total_deaths        386694 non-null  float64\n",
      " 6   new_deaths          386682 non-null  float64\n",
      " 7   population          386694 non-null  int64  \n",
      " 8   population_density  348192 non-null  float64\n",
      "dtypes: float64(4), int64(2), object(3)\n",
      "memory usage: 26.6+ MB\n"
     ]
    }
   ],
   "execution_count": 4
  },
  {
   "metadata": {
    "ExecuteTime": {
     "end_time": "2025-07-26T16:23:23.950837Z",
     "start_time": "2025-07-26T16:23:23.944899Z"
    }
   },
   "cell_type": "code",
   "source": "df.columns",
   "id": "d18c402f9b31d033",
   "outputs": [
    {
     "data": {
      "text/plain": [
       "Index(['continent', 'country', 'date', 'total_cases', 'new_cases',\n",
       "       'total_deaths', 'new_deaths', 'population', 'population_density'],\n",
       "      dtype='object')"
      ]
     },
     "execution_count": 5,
     "metadata": {},
     "output_type": "execute_result"
    }
   ],
   "execution_count": 5
  },
  {
   "metadata": {
    "ExecuteTime": {
     "end_time": "2025-07-26T16:23:24.104939Z",
     "start_time": "2025-07-26T16:23:24.000845Z"
    }
   },
   "cell_type": "code",
   "source": "df.describe()",
   "id": "d00fe1220929d64b",
   "outputs": [
    {
     "data": {
      "text/plain": [
       "        total_cases     new_cases  total_deaths     new_deaths    population  \\\n",
       "count  3.866940e+05  3.862330e+05  3.866940e+05  386682.000000  3.866940e+05   \n",
       "mean   1.666220e+06  1.811082e+03  1.938562e+04      17.143436  3.372331e+07   \n",
       "std    7.549132e+06  8.535374e+04  8.231517e+04     312.151369  1.373100e+08   \n",
       "min    0.000000e+00  0.000000e+00  0.000000e+00       0.000000  4.700000e+01   \n",
       "25%    5.490000e+03  0.000000e+00  3.700000e+01       0.000000  3.675120e+05   \n",
       "50%    4.961100e+04  0.000000e+00  6.490000e+02       0.000000  5.434324e+06   \n",
       "75%    5.251710e+05  0.000000e+00  6.881000e+03       0.000000  2.183215e+07   \n",
       "max    1.034368e+08  4.047548e+07  1.193165e+06   47687.000000  1.425887e+09   \n",
       "\n",
       "       population_density  \n",
       "count       348192.000000  \n",
       "mean           324.448558  \n",
       "std           1468.391080  \n",
       "min              0.140000  \n",
       "25%             37.045000  \n",
       "50%             87.720000  \n",
       "75%            216.397500  \n",
       "max          19347.500000  "
      ],
      "text/html": [
       "<div>\n",
       "<style scoped>\n",
       "    .dataframe tbody tr th:only-of-type {\n",
       "        vertical-align: middle;\n",
       "    }\n",
       "\n",
       "    .dataframe tbody tr th {\n",
       "        vertical-align: top;\n",
       "    }\n",
       "\n",
       "    .dataframe thead th {\n",
       "        text-align: right;\n",
       "    }\n",
       "</style>\n",
       "<table border=\"1\" class=\"dataframe\">\n",
       "  <thead>\n",
       "    <tr style=\"text-align: right;\">\n",
       "      <th></th>\n",
       "      <th>total_cases</th>\n",
       "      <th>new_cases</th>\n",
       "      <th>total_deaths</th>\n",
       "      <th>new_deaths</th>\n",
       "      <th>population</th>\n",
       "      <th>population_density</th>\n",
       "    </tr>\n",
       "  </thead>\n",
       "  <tbody>\n",
       "    <tr>\n",
       "      <th>count</th>\n",
       "      <td>3.866940e+05</td>\n",
       "      <td>3.862330e+05</td>\n",
       "      <td>3.866940e+05</td>\n",
       "      <td>386682.000000</td>\n",
       "      <td>3.866940e+05</td>\n",
       "      <td>348192.000000</td>\n",
       "    </tr>\n",
       "    <tr>\n",
       "      <th>mean</th>\n",
       "      <td>1.666220e+06</td>\n",
       "      <td>1.811082e+03</td>\n",
       "      <td>1.938562e+04</td>\n",
       "      <td>17.143436</td>\n",
       "      <td>3.372331e+07</td>\n",
       "      <td>324.448558</td>\n",
       "    </tr>\n",
       "    <tr>\n",
       "      <th>std</th>\n",
       "      <td>7.549132e+06</td>\n",
       "      <td>8.535374e+04</td>\n",
       "      <td>8.231517e+04</td>\n",
       "      <td>312.151369</td>\n",
       "      <td>1.373100e+08</td>\n",
       "      <td>1468.391080</td>\n",
       "    </tr>\n",
       "    <tr>\n",
       "      <th>min</th>\n",
       "      <td>0.000000e+00</td>\n",
       "      <td>0.000000e+00</td>\n",
       "      <td>0.000000e+00</td>\n",
       "      <td>0.000000</td>\n",
       "      <td>4.700000e+01</td>\n",
       "      <td>0.140000</td>\n",
       "    </tr>\n",
       "    <tr>\n",
       "      <th>25%</th>\n",
       "      <td>5.490000e+03</td>\n",
       "      <td>0.000000e+00</td>\n",
       "      <td>3.700000e+01</td>\n",
       "      <td>0.000000</td>\n",
       "      <td>3.675120e+05</td>\n",
       "      <td>37.045000</td>\n",
       "    </tr>\n",
       "    <tr>\n",
       "      <th>50%</th>\n",
       "      <td>4.961100e+04</td>\n",
       "      <td>0.000000e+00</td>\n",
       "      <td>6.490000e+02</td>\n",
       "      <td>0.000000</td>\n",
       "      <td>5.434324e+06</td>\n",
       "      <td>87.720000</td>\n",
       "    </tr>\n",
       "    <tr>\n",
       "      <th>75%</th>\n",
       "      <td>5.251710e+05</td>\n",
       "      <td>0.000000e+00</td>\n",
       "      <td>6.881000e+03</td>\n",
       "      <td>0.000000</td>\n",
       "      <td>2.183215e+07</td>\n",
       "      <td>216.397500</td>\n",
       "    </tr>\n",
       "    <tr>\n",
       "      <th>max</th>\n",
       "      <td>1.034368e+08</td>\n",
       "      <td>4.047548e+07</td>\n",
       "      <td>1.193165e+06</td>\n",
       "      <td>47687.000000</td>\n",
       "      <td>1.425887e+09</td>\n",
       "      <td>19347.500000</td>\n",
       "    </tr>\n",
       "  </tbody>\n",
       "</table>\n",
       "</div>"
      ]
     },
     "execution_count": 6,
     "metadata": {},
     "output_type": "execute_result"
    }
   ],
   "execution_count": 6
  },
  {
   "metadata": {
    "ExecuteTime": {
     "end_time": "2025-07-26T16:23:24.174152Z",
     "start_time": "2025-07-26T16:23:24.150282Z"
    }
   },
   "cell_type": "code",
   "source": "df[\"country\"].unique()",
   "id": "7b49b73cc5e921fc",
   "outputs": [
    {
     "data": {
      "text/plain": [
       "array(['Afghanistan', 'Albania', 'Algeria', 'American Samoa', 'Andorra',\n",
       "       'Angola', 'Anguilla', 'Antigua and Barbuda', 'Argentina',\n",
       "       'Armenia', 'Aruba', 'Australia', 'Austria', 'Azerbaijan',\n",
       "       'Bahamas', 'Bahrain', 'Bangladesh', 'Barbados', 'Belarus',\n",
       "       'Belgium', 'Belize', 'Benin', 'Bermuda', 'Bhutan', 'Bolivia',\n",
       "       'Bonaire Sint Eustatius and Saba', 'Bosnia and Herzegovina',\n",
       "       'Botswana', 'Brazil', 'British Virgin Islands', 'Brunei',\n",
       "       'Bulgaria', 'Burkina Faso', 'Burundi', 'Cambodia', 'Cameroon',\n",
       "       'Canada', 'Cape Verde', 'Cayman Islands',\n",
       "       'Central African Republic', 'Chad', 'Chile', 'China', 'Colombia',\n",
       "       'Comoros', 'Congo', 'Cook Islands', 'Costa Rica', \"Cote d'Ivoire\",\n",
       "       'Croatia', 'Cuba', 'Curacao', 'Cyprus', 'Czechia',\n",
       "       'Democratic Republic of Congo', 'Denmark', 'Djibouti', 'Dominica',\n",
       "       'Dominican Republic', 'Ecuador', 'Egypt', 'El Salvador',\n",
       "       'Equatorial Guinea', 'Eritrea', 'Estonia', 'Eswatini', 'Ethiopia',\n",
       "       'Falkland Islands', 'Faroe Islands', 'Fiji', 'Finland',\n",
       "       'French Guiana', 'French Polynesia', 'Gabon', 'Gambia', 'Georgia',\n",
       "       'Ghana', 'Gibraltar', 'Greece', 'Greenland', 'Grenada',\n",
       "       'Guadeloupe', 'Guam', 'Guatemala', 'Guernsey', 'Guinea',\n",
       "       'Guinea-Bissau', 'Guyana', 'Haiti', 'Honduras', 'Hungary',\n",
       "       'Iceland', 'India', 'Indonesia', 'Iran', 'Iraq', 'Ireland',\n",
       "       'Isle of Man', 'Israel', 'Italy', 'Jamaica', 'Japan', 'Jersey',\n",
       "       'Jordan', 'Kazakhstan', 'Kenya', 'Kiribati', 'Kosovo', 'Kuwait',\n",
       "       'Kyrgyzstan', 'Laos', 'Latvia', 'Lebanon', 'Lesotho', 'Liberia',\n",
       "       'Libya', 'Liechtenstein', 'Lithuania', 'Luxembourg', 'Madagascar',\n",
       "       'Malawi', 'Malaysia', 'Maldives', 'Mali', 'Malta',\n",
       "       'Marshall Islands', 'Martinique', 'Mauritania', 'Mauritius',\n",
       "       'Mayotte', 'Mexico', 'Micronesia (country)', 'Moldova', 'Monaco',\n",
       "       'Mongolia', 'Montenegro', 'Montserrat', 'Morocco', 'Mozambique',\n",
       "       'Myanmar', 'Namibia', 'Nauru', 'Nepal', 'Netherlands',\n",
       "       'New Caledonia', 'New Zealand', 'Nicaragua', 'Niger', 'Nigeria',\n",
       "       'Niue', 'North Korea', 'North Macedonia',\n",
       "       'Northern Mariana Islands', 'Norway', 'Oceania', 'Oman',\n",
       "       'Pakistan', 'Palau', 'Palestine', 'Panama', 'Papua New Guinea',\n",
       "       'Paraguay', 'Peru', 'Philippines', 'Pitcairn', 'Poland',\n",
       "       'Portugal', 'Puerto Rico', 'Qatar', 'Reunion', 'Romania', 'Russia',\n",
       "       'Rwanda', 'Saint Barthelemy', 'Saint Helena',\n",
       "       'Saint Kitts and Nevis', 'Saint Lucia',\n",
       "       'Saint Martin (French part)', 'Saint Pierre and Miquelon',\n",
       "       'Saint Vincent and the Grenadines', 'Samoa', 'San Marino',\n",
       "       'Sao Tome and Principe', 'Saudi Arabia', 'Senegal', 'Serbia',\n",
       "       'Seychelles', 'Sierra Leone', 'Singapore',\n",
       "       'Sint Maarten (Dutch part)', 'Slovakia', 'Slovenia',\n",
       "       'Solomon Islands', 'Somalia', 'South Africa', 'South Korea',\n",
       "       'South Sudan', 'Sri Lanka', 'Sudan', 'Suriname', 'Sweden',\n",
       "       'Switzerland', 'Syria', 'Tajikistan', 'Tanzania', 'Thailand',\n",
       "       'Togo', 'Tokelau', 'Tonga', 'Trinidad and Tobago', 'Tunisia',\n",
       "       'Turkey', 'Turkmenistan', 'Turks and Caicos Islands', 'Tuvalu',\n",
       "       'Uganda', 'Ukraine', 'United Arab Emirates', 'United Kingdom',\n",
       "       'United States', 'United States Virgin Islands', 'Uruguay',\n",
       "       'Uzbekistan', 'Vanuatu', 'Vatican', 'Venezuela', 'Vietnam',\n",
       "       'Wallis and Futuna', 'Yemen', 'Zambia', 'Zimbabwe'], dtype=object)"
      ]
     },
     "execution_count": 7,
     "metadata": {},
     "output_type": "execute_result"
    }
   ],
   "execution_count": 7
  },
  {
   "metadata": {
    "ExecuteTime": {
     "end_time": "2025-07-26T16:23:24.412714Z",
     "start_time": "2025-07-26T16:23:24.310032Z"
    }
   },
   "cell_type": "code",
   "source": "df[['total_cases', 'total_deaths', 'population', 'population_density']].describe()",
   "id": "994966de6ba8c8a8",
   "outputs": [
    {
     "data": {
      "text/plain": [
       "        total_cases  total_deaths    population  population_density\n",
       "count  3.866940e+05  3.866940e+05  3.866940e+05       348192.000000\n",
       "mean   1.666220e+06  1.938562e+04  3.372331e+07          324.448558\n",
       "std    7.549132e+06  8.231517e+04  1.373100e+08         1468.391080\n",
       "min    0.000000e+00  0.000000e+00  4.700000e+01            0.140000\n",
       "25%    5.490000e+03  3.700000e+01  3.675120e+05           37.045000\n",
       "50%    4.961100e+04  6.490000e+02  5.434324e+06           87.720000\n",
       "75%    5.251710e+05  6.881000e+03  2.183215e+07          216.397500\n",
       "max    1.034368e+08  1.193165e+06  1.425887e+09        19347.500000"
      ],
      "text/html": [
       "<div>\n",
       "<style scoped>\n",
       "    .dataframe tbody tr th:only-of-type {\n",
       "        vertical-align: middle;\n",
       "    }\n",
       "\n",
       "    .dataframe tbody tr th {\n",
       "        vertical-align: top;\n",
       "    }\n",
       "\n",
       "    .dataframe thead th {\n",
       "        text-align: right;\n",
       "    }\n",
       "</style>\n",
       "<table border=\"1\" class=\"dataframe\">\n",
       "  <thead>\n",
       "    <tr style=\"text-align: right;\">\n",
       "      <th></th>\n",
       "      <th>total_cases</th>\n",
       "      <th>total_deaths</th>\n",
       "      <th>population</th>\n",
       "      <th>population_density</th>\n",
       "    </tr>\n",
       "  </thead>\n",
       "  <tbody>\n",
       "    <tr>\n",
       "      <th>count</th>\n",
       "      <td>3.866940e+05</td>\n",
       "      <td>3.866940e+05</td>\n",
       "      <td>3.866940e+05</td>\n",
       "      <td>348192.000000</td>\n",
       "    </tr>\n",
       "    <tr>\n",
       "      <th>mean</th>\n",
       "      <td>1.666220e+06</td>\n",
       "      <td>1.938562e+04</td>\n",
       "      <td>3.372331e+07</td>\n",
       "      <td>324.448558</td>\n",
       "    </tr>\n",
       "    <tr>\n",
       "      <th>std</th>\n",
       "      <td>7.549132e+06</td>\n",
       "      <td>8.231517e+04</td>\n",
       "      <td>1.373100e+08</td>\n",
       "      <td>1468.391080</td>\n",
       "    </tr>\n",
       "    <tr>\n",
       "      <th>min</th>\n",
       "      <td>0.000000e+00</td>\n",
       "      <td>0.000000e+00</td>\n",
       "      <td>4.700000e+01</td>\n",
       "      <td>0.140000</td>\n",
       "    </tr>\n",
       "    <tr>\n",
       "      <th>25%</th>\n",
       "      <td>5.490000e+03</td>\n",
       "      <td>3.700000e+01</td>\n",
       "      <td>3.675120e+05</td>\n",
       "      <td>37.045000</td>\n",
       "    </tr>\n",
       "    <tr>\n",
       "      <th>50%</th>\n",
       "      <td>4.961100e+04</td>\n",
       "      <td>6.490000e+02</td>\n",
       "      <td>5.434324e+06</td>\n",
       "      <td>87.720000</td>\n",
       "    </tr>\n",
       "    <tr>\n",
       "      <th>75%</th>\n",
       "      <td>5.251710e+05</td>\n",
       "      <td>6.881000e+03</td>\n",
       "      <td>2.183215e+07</td>\n",
       "      <td>216.397500</td>\n",
       "    </tr>\n",
       "    <tr>\n",
       "      <th>max</th>\n",
       "      <td>1.034368e+08</td>\n",
       "      <td>1.193165e+06</td>\n",
       "      <td>1.425887e+09</td>\n",
       "      <td>19347.500000</td>\n",
       "    </tr>\n",
       "  </tbody>\n",
       "</table>\n",
       "</div>"
      ]
     },
     "execution_count": 8,
     "metadata": {},
     "output_type": "execute_result"
    }
   ],
   "execution_count": 8
  },
  {
   "metadata": {},
   "cell_type": "markdown",
   "source": "# بررسی تعداد کشورها و مقادیر یکتا",
   "id": "b0fa45fd77adfbe7"
  },
  {
   "metadata": {
    "ExecuteTime": {
     "end_time": "2025-07-26T16:23:24.551018Z",
     "start_time": "2025-07-26T16:23:24.515684Z"
    }
   },
   "cell_type": "code",
   "source": "df['country'].nunique()",
   "id": "3f35d03a638b1ce2",
   "outputs": [
    {
     "data": {
      "text/plain": [
       "231"
      ]
     },
     "execution_count": 9,
     "metadata": {},
     "output_type": "execute_result"
    }
   ],
   "execution_count": 9
  },
  {
   "metadata": {
    "ExecuteTime": {
     "end_time": "2025-07-26T16:23:24.754127Z",
     "start_time": "2025-07-26T16:23:24.730901Z"
    }
   },
   "cell_type": "code",
   "source": "df['continent'].unique()",
   "id": "abc2627aa19ea763",
   "outputs": [
    {
     "data": {
      "text/plain": [
       "array(['Asia', 'Europe', 'Africa', 'Oceania', 'North America',\n",
       "       'South America', nan], dtype=object)"
      ]
     },
     "execution_count": 10,
     "metadata": {},
     "output_type": "execute_result"
    }
   ],
   "execution_count": 10
  },
  {
   "metadata": {
    "ExecuteTime": {
     "end_time": "2025-07-26T16:23:24.966241Z",
     "start_time": "2025-07-26T16:23:24.941348Z"
    }
   },
   "cell_type": "code",
   "source": "df['continent'].value_counts()",
   "id": "5a8758a8d805d0d",
   "outputs": [
    {
     "data": {
      "text/plain": [
       "continent\n",
       "Africa           95418\n",
       "Europe           80352\n",
       "Asia             77004\n",
       "North America    68634\n",
       "Oceania          40176\n",
       "South America    23436\n",
       "Name: count, dtype: int64"
      ]
     },
     "execution_count": 11,
     "metadata": {},
     "output_type": "execute_result"
    }
   ],
   "execution_count": 11
  },
  {
   "metadata": {
    "ExecuteTime": {
     "end_time": "2025-07-26T16:23:25.041758Z",
     "start_time": "2025-07-26T16:23:25.010903Z"
    }
   },
   "cell_type": "code",
   "source": "df.groupby('country')[\"new_deaths\"].sum().sort_values(ascending=False)",
   "id": "9c03a36ed1b37c33",
   "outputs": [
    {
     "data": {
      "text/plain": [
       "country\n",
       "United States       1193165.0\n",
       "Brazil               702116.0\n",
       "India                533623.0\n",
       "Russia               403188.0\n",
       "Mexico               334551.0\n",
       "                      ...    \n",
       "Falkland Islands          0.0\n",
       "Turkmenistan              0.0\n",
       "Niue                      0.0\n",
       "Saint Helena              0.0\n",
       "North Korea               0.0\n",
       "Name: new_deaths, Length: 231, dtype: float64"
      ]
     },
     "execution_count": 12,
     "metadata": {},
     "output_type": "execute_result"
    }
   ],
   "execution_count": 12
  },
  {
   "metadata": {},
   "cell_type": "markdown",
   "source": "# بررسی داده‌های گمشده",
   "id": "66fb7b1394f76513"
  },
  {
   "metadata": {
    "ExecuteTime": {
     "end_time": "2025-07-26T16:23:25.269330Z",
     "start_time": "2025-07-26T16:23:25.223673Z"
    }
   },
   "cell_type": "code",
   "source": "df.isna().sum().sort_values(ascending=False)",
   "id": "322028e600eec1d",
   "outputs": [
    {
     "data": {
      "text/plain": [
       "population_density    38502\n",
       "continent              1674\n",
       "new_cases               461\n",
       "new_deaths               12\n",
       "country                   0\n",
       "date                      0\n",
       "total_cases               0\n",
       "total_deaths              0\n",
       "population                0\n",
       "dtype: int64"
      ]
     },
     "execution_count": 13,
     "metadata": {},
     "output_type": "execute_result"
    }
   ],
   "execution_count": 13
  },
  {
   "metadata": {
    "ExecuteTime": {
     "end_time": "2025-07-26T16:23:25.418452Z",
     "start_time": "2025-07-26T16:23:25.375607Z"
    }
   },
   "cell_type": "code",
   "source": "(df.isna().mean() * 100).sort_values(ascending=False)",
   "id": "6f9e3c3da388a35b",
   "outputs": [
    {
     "data": {
      "text/plain": [
       "population_density    9.956710\n",
       "continent             0.432900\n",
       "new_cases             0.119216\n",
       "new_deaths            0.003103\n",
       "country               0.000000\n",
       "date                  0.000000\n",
       "total_cases           0.000000\n",
       "total_deaths          0.000000\n",
       "population            0.000000\n",
       "dtype: float64"
      ]
     },
     "execution_count": 14,
     "metadata": {},
     "output_type": "execute_result"
    }
   ],
   "execution_count": 14
  },
  {
   "metadata": {},
   "cell_type": "markdown",
   "source": "# تحلیل مقدماتی متغیرهای عددی",
   "id": "2c7b486a67ad5cea"
  },
  {
   "metadata": {
    "ExecuteTime": {
     "end_time": "2025-07-26T16:23:26.968641Z",
     "start_time": "2025-07-26T16:23:25.588495Z"
    }
   },
   "cell_type": "code",
   "source": [
    "sns.histplot(df['population_density'].dropna(), bins=50, kde=True)\n",
    "plt.title('Distribution of Population Density')\n",
    "plt.show()"
   ],
   "id": "f6d3bd529a410fe7",
   "outputs": [
    {
     "data": {
      "text/plain": [
       "<Figure size 640x480 with 1 Axes>"
      ],
      "image/png": "[encoded data removed]"
     },
     "metadata": {},
     "output_type": "display_data"
    }
   ],
   "execution_count": 15
  },
  {
   "metadata": {
    "ExecuteTime": {
     "end_time": "2025-07-26T16:23:27.558321Z",
     "start_time": "2025-07-26T16:23:27.016775Z"
    }
   },
   "cell_type": "code",
   "source": [
    "sns.boxplot(x=df['new_cases'].dropna())\n",
    "plt.title('Boxplot of New Cases')\n",
    "plt.show()"
   ],
   "id": "b30854917355002a",
   "outputs": [
    {
     "data": {
      "text/plain": [
       "<Figure size 640x480 with 1 Axes>"
      ],
      "image/png": "[encoded data removed]"
     },
     "metadata": {},
     "output_type": "display_data"
    }
   ],
   "execution_count": 16
  },
  {
   "metadata": {},
   "cell_type": "markdown",
   "source": "# بررسی متغیرهای دسته‌ای مهم",
   "id": "8313b29da2d9db47"
  },
  {
   "metadata": {
    "ExecuteTime": {
     "end_time": "2025-07-26T16:23:27.620229Z",
     "start_time": "2025-07-26T16:23:27.597139Z"
    }
   },
   "cell_type": "code",
   "source": "df['continent'].value_counts()",
   "id": "d6f70bee05b02dec",
   "outputs": [
    {
     "data": {
      "text/plain": [
       "continent\n",
       "Africa           95418\n",
       "Europe           80352\n",
       "Asia             77004\n",
       "North America    68634\n",
       "Oceania          40176\n",
       "South America    23436\n",
       "Name: count, dtype: int64"
      ]
     },
     "execution_count": 17,
     "metadata": {},
     "output_type": "execute_result"
    }
   ],
   "execution_count": 17
  },
  {
   "metadata": {
    "ExecuteTime": {
     "end_time": "2025-07-26T16:23:27.704465Z",
     "start_time": "2025-07-26T16:23:27.684601Z"
    }
   },
   "cell_type": "code",
   "source": "df['country'].value_counts().tail(10)",
   "id": "fac3d664045ab840",
   "outputs": [
    {
     "data": {
      "text/plain": [
       "country\n",
       "Ghana         1674\n",
       "Gibraltar     1674\n",
       "Greece        1674\n",
       "Greenland     1674\n",
       "Grenada       1674\n",
       "Guadeloupe    1674\n",
       "Guam          1674\n",
       "Guatemala     1674\n",
       "Guernsey      1674\n",
       "Zimbabwe      1674\n",
       "Name: count, dtype: int64"
      ]
     },
     "execution_count": 18,
     "metadata": {},
     "output_type": "execute_result"
    }
   ],
   "execution_count": 18
  }
 ],
 "metadata": {
  "kernelspec": {
   "display_name": "Python 3",
   "language": "python",
   "name": "python3"
  },
  "language_info": {
   "codemirror_mode": {
    "name": "ipython",
    "version": 2
   },
   "file_extension": ".py",
   "mimetype": "text/x-python",
   "name": "python",
   "nbconvert_exporter": "python",
   "pygments_lexer": "ipython2",
   "version": "2.7.6"
  }
 },
 "nbformat": 4,
 "nbformat_minor": 5
}
